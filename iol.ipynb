{
 "cells": [
  {
   "cell_type": "code",
   "execution_count": 1,
   "metadata": {},
   "outputs": [
    {
     "name": "stdout",
     "output_type": "stream",
     "text": [
      "Error en la solicitud: 400\n"
     ]
    }
   ],
   "source": [
    "import requests\n",
    "import pandas as pd\n",
    "\n",
    "# URLs de la API para autenticación y consulta de títulos\n",
    "AUTH_URL = 'https://api.invertironline.com/token'\n",
    "HISTORICAL_URL = 'https://api.invertironline.com/api/v2/{mercado}/Titulos/{simbolo}/Cotizacion/seriehistorica/{fechaDesde}/{fechaHasta}/{ajustada}'\n",
    "\n",
    "# Datos de autenticación\n",
    "USERNAME = 'XXXXXXXXXXX'\n",
    "PASSWORD = 'XXXXXXXXXXX'\n",
    "\n",
    "def authenticate(username, password):\n",
    "    auth_data = {\n",
    "        'username': username,\n",
    "        'password': password,\n",
    "        'grant_type': 'password'\n",
    "    }\n",
    "    response = requests.post(AUTH_URL, data=auth_data)\n",
    "    if response.status_code == 200:\n",
    "        return response.json().get('access_token')\n",
    "    else:\n",
    "        print('Error en la autenticación:', response.status_code)\n",
    "        return None\n",
    "\n",
    "# Parámetros de la consulta histórica\n",
    "mercado = 'BCBA'  # Mercado de valores, puedes cambiarlo según tus necesidades\n",
    "simbolo = 'ALUA'  # Símbolo del título, puedes cambiarlo según tus necesidades\n",
    "fecha_desde = '2023-01-01'  # Fecha de inicio de la cotización histórica\n",
    "fecha_hasta = '2023-06-14'  # Fecha de fin de la cotización histórica\n",
    "ajustada = 'false'  # Indicador de ajuste de precios, puedes cambiarlo según tus necesidades\n",
    "\n",
    "# Autenticación para obtener el token de acceso\n",
    "access_token = authenticate(USERNAME, PASSWORD)\n",
    "\n",
    "if access_token:\n",
    "    headers = {\n",
    "        'Authorization': f'Bearer {access_token}'\n",
    "    }\n",
    "    historical_url = HISTORICAL_URL.format(\n",
    "        mercado=mercado,\n",
    "        simbolo=simbolo,\n",
    "        fechaDesde=fecha_desde,\n",
    "        fechaHasta=fecha_hasta,\n",
    "        ajustada=ajustada\n",
    "    )\n",
    "    response = requests.get(historical_url, headers=headers)\n",
    "\n",
    "    if response.status_code == 200:\n",
    "        data = response.json()\n",
    "        df = pd.DataFrame(data)\n",
    "        print(df[['fecha', 'ultimoPrecio']])\n",
    "    else:\n",
    "        print('Error en la solicitud:', response.status_code)\n"
   ]
  },
  {
   "cell_type": "code",
   "execution_count": 2,
   "metadata": {},
   "outputs": [
    {
     "name": "stdout",
     "output_type": "stream",
     "text": [
      "Último precio: 364.0\n"
     ]
    }
   ],
   "source": [
    "import requests\n",
    "\n",
    "# URLs de la API para autenticación y consulta de títulos\n",
    "AUTH_URL = 'https://api.invertironline.com/token'\n",
    "COTIZACION_URL = 'https://api.invertironline.com/api/v2/{mercado}/Titulos/{simbolo}/Cotizacion'\n",
    "\n",
    "# Datos de autenticación\n",
    "USERNAME = 'XXXXXXXXXXX'\n",
    "PASSWORD = 'XXXXXXXXXXX'\n",
    "\n",
    "def authenticate(username, password):\n",
    "    auth_data = {\n",
    "        'username': username,\n",
    "        'password': password,\n",
    "        'grant_type': 'password'\n",
    "    }\n",
    "    response = requests.post(AUTH_URL, data=auth_data)\n",
    "    if response.status_code == 200:\n",
    "        return response.json().get('access_token')\n",
    "    else:\n",
    "        print('Error en la autenticación:', response.status_code)\n",
    "        return None\n",
    "\n",
    "# Mercado y símbolo del título\n",
    "mercado = 'BCBA'  # Puedes cambiarlo según tus necesidades\n",
    "simbolo = 'ALUA'  # Puedes cambiarlo según tus necesidades\n",
    "\n",
    "# Autenticación para obtener el token de acceso\n",
    "access_token = authenticate(USERNAME, PASSWORD)\n",
    "\n",
    "if access_token:\n",
    "    headers = {\n",
    "        'Authorization': f'Bearer {access_token}'\n",
    "    }\n",
    "    cotizacion_url = COTIZACION_URL.format(mercado=mercado, simbolo=simbolo)\n",
    "    response = requests.get(cotizacion_url, headers=headers)\n",
    "\n",
    "    if response.status_code == 200:\n",
    "        datos = response.json()\n",
    "        precio = datos.get('ultimoPrecio')\n",
    "        print('Último precio:', precio)\n",
    "    else:\n",
    "        print('Error en la solicitud:', response.status_code)\n"
   ]
  }
 ],
 "metadata": {
  "kernelspec": {
   "display_name": "base",
   "language": "python",
   "name": "python3"
  },
  "language_info": {
   "codemirror_mode": {
    "name": "ipython",
    "version": 3
   },
   "file_extension": ".py",
   "mimetype": "text/x-python",
   "name": "python",
   "nbconvert_exporter": "python",
   "pygments_lexer": "ipython3",
   "version": "3.9.12"
  },
  "orig_nbformat": 4
 },
 "nbformat": 4,
 "nbformat_minor": 2
}
